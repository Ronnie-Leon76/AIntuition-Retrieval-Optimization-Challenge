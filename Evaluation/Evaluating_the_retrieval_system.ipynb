{
 "cells": [
  {
   "cell_type": "markdown",
   "metadata": {},
   "source": [
    "### Install the required packages"
   ]
  },
  {
   "cell_type": "code",
   "execution_count": 1,
   "metadata": {},
   "outputs": [
    {
     "name": "stdout",
     "output_type": "stream",
     "text": [
      "Requirement already satisfied: trulens-eval in /home/adeptschneiderthedev/.miniconda3/lib/python3.10/site-packages (0.28.2)\n",
      "Requirement already satisfied: numpy>=1.23.5 in /home/adeptschneiderthedev/.miniconda3/lib/python3.10/site-packages (from trulens-eval) (1.24.4)\n",
      "Requirement already satisfied: frozendict>=2.3.8 in /home/adeptschneiderthedev/.miniconda3/lib/python3.10/site-packages (from trulens-eval) (2.4.2)\n",
      "Requirement already satisfied: munch>=3.0.0 in /home/adeptschneiderthedev/.miniconda3/lib/python3.10/site-packages (from trulens-eval) (4.0.0)\n",
      "Requirement already satisfied: dill>=0.3.7 in /home/adeptschneiderthedev/.miniconda3/lib/python3.10/site-packages (from trulens-eval) (0.3.7)\n",
      "Requirement already satisfied: tqdm>=4.66.1 in /home/adeptschneiderthedev/.miniconda3/lib/python3.10/site-packages (from trulens-eval) (4.66.4)\n",
      "Requirement already satisfied: nltk>=3.8.1 in /home/adeptschneiderthedev/.miniconda3/lib/python3.10/site-packages (from trulens-eval) (3.8.1)\n",
      "Requirement already satisfied: requests>=2.31.0 in /home/adeptschneiderthedev/.miniconda3/lib/python3.10/site-packages (from trulens-eval) (2.31.0)\n",
      "Requirement already satisfied: nest-asyncio>=1.5.8 in /home/adeptschneiderthedev/.miniconda3/lib/python3.10/site-packages (from trulens-eval) (1.6.0)\n",
      "Requirement already satisfied: typing-extensions>=4.9.0 in /home/adeptschneiderthedev/.miniconda3/lib/python3.10/site-packages (from trulens-eval) (4.10.0)\n",
      "Requirement already satisfied: psutil>=5.9.8 in /home/adeptschneiderthedev/.miniconda3/lib/python3.10/site-packages (from trulens-eval) (5.9.8)\n",
      "Requirement already satisfied: pip>=24.0 in /home/adeptschneiderthedev/.miniconda3/lib/python3.10/site-packages (from trulens-eval) (24.0)\n",
      "Requirement already satisfied: packaging>=23.2 in /home/adeptschneiderthedev/.miniconda3/lib/python3.10/site-packages (from trulens-eval) (23.2)\n",
      "Requirement already satisfied: python-dotenv>=1.0.0 in /home/adeptschneiderthedev/.miniconda3/lib/python3.10/site-packages (from trulens-eval) (1.0.1)\n",
      "Requirement already satisfied: pydantic<3,>=2 in /home/adeptschneiderthedev/.miniconda3/lib/python3.10/site-packages (from trulens-eval) (2.6.4)\n",
      "Requirement already satisfied: merkle-json>=1.0.0 in /home/adeptschneiderthedev/.miniconda3/lib/python3.10/site-packages (from trulens-eval) (1.0.0)\n",
      "Requirement already satisfied: langchain>=0.1.14 in /home/adeptschneiderthedev/.miniconda3/lib/python3.10/site-packages (from trulens-eval) (0.1.20)\n",
      "Requirement already satisfied: langchain-core>=0.1.6 in /home/adeptschneiderthedev/.miniconda3/lib/python3.10/site-packages (from trulens-eval) (0.1.52)\n",
      "Requirement already satisfied: typing-inspect>=0.8.0 in /home/adeptschneiderthedev/.miniconda3/lib/python3.10/site-packages (from trulens-eval) (0.9.0)\n",
      "Requirement already satisfied: millify>=0.1.1 in /home/adeptschneiderthedev/.miniconda3/lib/python3.10/site-packages (from trulens-eval) (0.1.1)\n",
      "Requirement already satisfied: humanize>=4.6.0 in /home/adeptschneiderthedev/.miniconda3/lib/python3.10/site-packages (from trulens-eval) (4.9.0)\n",
      "Requirement already satisfied: streamlit>=1.32.2 in /home/adeptschneiderthedev/.miniconda3/lib/python3.10/site-packages (from trulens-eval) (1.34.0)\n",
      "Requirement already satisfied: streamlit-aggrid==0.3.4 in /home/adeptschneiderthedev/.miniconda3/lib/python3.10/site-packages (from trulens-eval) (0.3.4)\n",
      "Requirement already satisfied: streamlit-extras>=0.4.0 in /home/adeptschneiderthedev/.miniconda3/lib/python3.10/site-packages (from trulens-eval) (0.4.2)\n",
      "Requirement already satisfied: streamlit-pills>=0.3.0 in /home/adeptschneiderthedev/.miniconda3/lib/python3.10/site-packages (from trulens-eval) (0.3.0)\n",
      "Requirement already satisfied: rich>=13.6.0 in /home/adeptschneiderthedev/.local/lib/python3.10/site-packages (from trulens-eval) (13.7.1)\n",
      "Requirement already satisfied: sqlalchemy>=2.0.19 in /home/adeptschneiderthedev/.miniconda3/lib/python3.10/site-packages (from trulens-eval) (2.0.20)\n",
      "Requirement already satisfied: alembic>=1.11.2 in /home/adeptschneiderthedev/.local/lib/python3.10/site-packages (from trulens-eval) (1.13.1)\n",
      "Requirement already satisfied: pandas>=1.2 in /home/adeptschneiderthedev/.miniconda3/lib/python3.10/site-packages (from streamlit-aggrid==0.3.4->trulens-eval) (2.2.2)\n",
      "Requirement already satisfied: python-decouple<4.0,>=3.6 in /home/adeptschneiderthedev/.local/lib/python3.10/site-packages (from streamlit-aggrid==0.3.4->trulens-eval) (3.6)\n",
      "Requirement already satisfied: Mako in /home/adeptschneiderthedev/.miniconda3/lib/python3.10/site-packages (from alembic>=1.11.2->trulens-eval) (1.3.2)\n",
      "Requirement already satisfied: PyYAML>=5.3 in /home/adeptschneiderthedev/.miniconda3/lib/python3.10/site-packages (from langchain>=0.1.14->trulens-eval) (6.0.1)\n",
      "Requirement already satisfied: aiohttp<4.0.0,>=3.8.3 in /home/adeptschneiderthedev/.miniconda3/lib/python3.10/site-packages (from langchain>=0.1.14->trulens-eval) (3.9.5)\n",
      "Requirement already satisfied: async-timeout<5.0.0,>=4.0.0 in /home/adeptschneiderthedev/.miniconda3/lib/python3.10/site-packages (from langchain>=0.1.14->trulens-eval) (4.0.3)\n",
      "Requirement already satisfied: dataclasses-json<0.7,>=0.5.7 in /home/adeptschneiderthedev/.miniconda3/lib/python3.10/site-packages (from langchain>=0.1.14->trulens-eval) (0.5.14)\n",
      "Collecting langchain-community<0.1,>=0.0.38 (from langchain>=0.1.14->trulens-eval)\n",
      "  Using cached langchain_community-0.0.38-py3-none-any.whl.metadata (8.7 kB)\n",
      "Requirement already satisfied: langchain-text-splitters<0.1,>=0.0.1 in /home/adeptschneiderthedev/.local/lib/python3.10/site-packages (from langchain>=0.1.14->trulens-eval) (0.0.1)\n",
      "Requirement already satisfied: langsmith<0.2.0,>=0.1.17 in /home/adeptschneiderthedev/.local/lib/python3.10/site-packages (from langchain>=0.1.14->trulens-eval) (0.1.41)\n",
      "Requirement already satisfied: tenacity<9.0.0,>=8.1.0 in /home/adeptschneiderthedev/.miniconda3/lib/python3.10/site-packages (from langchain>=0.1.14->trulens-eval) (8.2.3)\n",
      "Requirement already satisfied: jsonpatch<2.0,>=1.33 in /home/adeptschneiderthedev/.local/lib/python3.10/site-packages (from langchain-core>=0.1.6->trulens-eval) (1.33)\n",
      "Requirement already satisfied: click in /home/adeptschneiderthedev/.miniconda3/lib/python3.10/site-packages (from nltk>=3.8.1->trulens-eval) (8.1.7)\n",
      "Requirement already satisfied: joblib in /home/adeptschneiderthedev/.miniconda3/lib/python3.10/site-packages (from nltk>=3.8.1->trulens-eval) (1.2.0)\n",
      "Requirement already satisfied: regex>=2021.8.3 in /home/adeptschneiderthedev/.miniconda3/lib/python3.10/site-packages (from nltk>=3.8.1->trulens-eval) (2023.8.8)\n",
      "Requirement already satisfied: annotated-types>=0.4.0 in /home/adeptschneiderthedev/.miniconda3/lib/python3.10/site-packages (from pydantic<3,>=2->trulens-eval) (0.5.0)\n",
      "Requirement already satisfied: pydantic-core==2.16.3 in /home/adeptschneiderthedev/.miniconda3/lib/python3.10/site-packages (from pydantic<3,>=2->trulens-eval) (2.16.3)\n",
      "Requirement already satisfied: charset-normalizer<4,>=2 in /home/adeptschneiderthedev/.miniconda3/lib/python3.10/site-packages (from requests>=2.31.0->trulens-eval) (3.3.2)\n",
      "Requirement already satisfied: idna<4,>=2.5 in /home/adeptschneiderthedev/.miniconda3/lib/python3.10/site-packages (from requests>=2.31.0->trulens-eval) (3.4)\n",
      "Requirement already satisfied: urllib3<3,>=1.21.1 in /home/adeptschneiderthedev/.miniconda3/lib/python3.10/site-packages (from requests>=2.31.0->trulens-eval) (2.0.7)\n",
      "Requirement already satisfied: certifi>=2017.4.17 in /home/adeptschneiderthedev/.miniconda3/lib/python3.10/site-packages (from requests>=2.31.0->trulens-eval) (2023.11.17)\n",
      "Requirement already satisfied: markdown-it-py>=2.2.0 in /home/adeptschneiderthedev/.local/lib/python3.10/site-packages (from rich>=13.6.0->trulens-eval) (3.0.0)\n",
      "Requirement already satisfied: pygments<3.0.0,>=2.13.0 in /home/adeptschneiderthedev/.local/lib/python3.10/site-packages (from rich>=13.6.0->trulens-eval) (2.17.2)\n",
      "Requirement already satisfied: greenlet!=0.4.17 in /home/adeptschneiderthedev/.miniconda3/lib/python3.10/site-packages (from sqlalchemy>=2.0.19->trulens-eval) (2.0.2)\n",
      "Requirement already satisfied: altair<6,>=4.0 in /home/adeptschneiderthedev/.miniconda3/lib/python3.10/site-packages (from streamlit>=1.32.2->trulens-eval) (4.2.2)\n",
      "Requirement already satisfied: blinker<2,>=1.0.0 in /home/adeptschneiderthedev/.miniconda3/lib/python3.10/site-packages (from streamlit>=1.32.2->trulens-eval) (1.7.0)\n",
      "Requirement already satisfied: cachetools<6,>=4.0 in /home/adeptschneiderthedev/.local/lib/python3.10/site-packages (from streamlit>=1.32.2->trulens-eval) (5.3.3)\n",
      "Requirement already satisfied: pillow<11,>=7.1.0 in /home/adeptschneiderthedev/.miniconda3/lib/python3.10/site-packages (from streamlit>=1.32.2->trulens-eval) (10.2.0)\n",
      "Requirement already satisfied: protobuf<5,>=3.20 in /home/adeptschneiderthedev/.local/lib/python3.10/site-packages (from streamlit>=1.32.2->trulens-eval) (4.25.1)\n",
      "Requirement already satisfied: pyarrow>=7.0 in /home/adeptschneiderthedev/.local/lib/python3.10/site-packages (from streamlit>=1.32.2->trulens-eval) (16.0.0)\n",
      "Requirement already satisfied: toml<2,>=0.10.1 in /home/adeptschneiderthedev/.miniconda3/lib/python3.10/site-packages (from streamlit>=1.32.2->trulens-eval) (0.10.2)\n",
      "Requirement already satisfied: gitpython!=3.1.19,<4,>=3.0.7 in /home/adeptschneiderthedev/.local/lib/python3.10/site-packages (from streamlit>=1.32.2->trulens-eval) (3.1.43)\n",
      "Requirement already satisfied: pydeck<1,>=0.8.0b4 in /home/adeptschneiderthedev/.miniconda3/lib/python3.10/site-packages (from streamlit>=1.32.2->trulens-eval) (0.8.1b0)\n",
      "Requirement already satisfied: tornado<7,>=6.0.3 in /home/adeptschneiderthedev/.miniconda3/lib/python3.10/site-packages (from streamlit>=1.32.2->trulens-eval) (6.1)\n",
      "Requirement already satisfied: watchdog>=2.1.5 in /home/adeptschneiderthedev/.miniconda3/lib/python3.10/site-packages (from streamlit>=1.32.2->trulens-eval) (3.0.0)\n",
      "Requirement already satisfied: entrypoints>=0.4 in /home/adeptschneiderthedev/.miniconda3/lib/python3.10/site-packages (from streamlit-extras>=0.4.0->trulens-eval) (0.4)\n",
      "Requirement already satisfied: htbuilder>=0.6.2 in /home/adeptschneiderthedev/.miniconda3/lib/python3.10/site-packages (from streamlit-extras>=0.4.0->trulens-eval) (0.6.2)\n",
      "Requirement already satisfied: markdownlit>=0.0.5 in /home/adeptschneiderthedev/.miniconda3/lib/python3.10/site-packages (from streamlit-extras>=0.4.0->trulens-eval) (0.0.7)\n",
      "Requirement already satisfied: prometheus-client>=0.14.0 in /home/adeptschneiderthedev/.miniconda3/lib/python3.10/site-packages (from streamlit-extras>=0.4.0->trulens-eval) (0.19.0)\n",
      "Requirement already satisfied: st-annotated-text>=3.0.0 in /home/adeptschneiderthedev/.miniconda3/lib/python3.10/site-packages (from streamlit-extras>=0.4.0->trulens-eval) (4.0.1)\n",
      "Requirement already satisfied: streamlit-camera-input-live>=0.2.0 in /home/adeptschneiderthedev/.miniconda3/lib/python3.10/site-packages (from streamlit-extras>=0.4.0->trulens-eval) (0.2.0)\n",
      "Requirement already satisfied: streamlit-card>=0.0.4 in /home/adeptschneiderthedev/.miniconda3/lib/python3.10/site-packages (from streamlit-extras>=0.4.0->trulens-eval) (1.0.0)\n",
      "Requirement already satisfied: streamlit-embedcode>=0.1.2 in /home/adeptschneiderthedev/.miniconda3/lib/python3.10/site-packages (from streamlit-extras>=0.4.0->trulens-eval) (0.1.2)\n",
      "Requirement already satisfied: streamlit-faker>=0.0.2 in /home/adeptschneiderthedev/.miniconda3/lib/python3.10/site-packages (from streamlit-extras>=0.4.0->trulens-eval) (0.0.3)\n",
      "Requirement already satisfied: streamlit-image-coordinates<0.2.0,>=0.1.1 in /home/adeptschneiderthedev/.miniconda3/lib/python3.10/site-packages (from streamlit-extras>=0.4.0->trulens-eval) (0.1.6)\n",
      "Requirement already satisfied: streamlit-keyup>=0.1.9 in /home/adeptschneiderthedev/.miniconda3/lib/python3.10/site-packages (from streamlit-extras>=0.4.0->trulens-eval) (0.2.4)\n",
      "Requirement already satisfied: streamlit-toggle-switch>=1.0.2 in /home/adeptschneiderthedev/.miniconda3/lib/python3.10/site-packages (from streamlit-extras>=0.4.0->trulens-eval) (1.0.2)\n",
      "Requirement already satisfied: streamlit-vertical-slider>=2.5.5 in /home/adeptschneiderthedev/.miniconda3/lib/python3.10/site-packages (from streamlit-extras>=0.4.0->trulens-eval) (2.5.5)\n",
      "Requirement already satisfied: validators>=0.20.0 in /home/adeptschneiderthedev/.miniconda3/lib/python3.10/site-packages (from streamlit-extras>=0.4.0->trulens-eval) (0.22.0)\n",
      "Requirement already satisfied: mypy-extensions>=0.3.0 in /home/adeptschneiderthedev/.miniconda3/lib/python3.10/site-packages (from typing-inspect>=0.8.0->trulens-eval) (1.0.0)\n",
      "Requirement already satisfied: aiosignal>=1.1.2 in /home/adeptschneiderthedev/.miniconda3/lib/python3.10/site-packages (from aiohttp<4.0.0,>=3.8.3->langchain>=0.1.14->trulens-eval) (1.2.0)\n",
      "Requirement already satisfied: attrs>=17.3.0 in /home/adeptschneiderthedev/.miniconda3/lib/python3.10/site-packages (from aiohttp<4.0.0,>=3.8.3->langchain>=0.1.14->trulens-eval) (23.1.0)\n",
      "Requirement already satisfied: frozenlist>=1.1.1 in /home/adeptschneiderthedev/.miniconda3/lib/python3.10/site-packages (from aiohttp<4.0.0,>=3.8.3->langchain>=0.1.14->trulens-eval) (1.3.3)\n",
      "Requirement already satisfied: multidict<7.0,>=4.5 in /home/adeptschneiderthedev/.miniconda3/lib/python3.10/site-packages (from aiohttp<4.0.0,>=3.8.3->langchain>=0.1.14->trulens-eval) (6.0.2)\n",
      "Requirement already satisfied: yarl<2.0,>=1.0 in /home/adeptschneiderthedev/.miniconda3/lib/python3.10/site-packages (from aiohttp<4.0.0,>=3.8.3->langchain>=0.1.14->trulens-eval) (1.8.1)\n",
      "Requirement already satisfied: jinja2 in /home/adeptschneiderthedev/.miniconda3/lib/python3.10/site-packages (from altair<6,>=4.0->streamlit>=1.32.2->trulens-eval) (3.1.2)\n",
      "Requirement already satisfied: jsonschema>=3.0 in /home/adeptschneiderthedev/.local/lib/python3.10/site-packages (from altair<6,>=4.0->streamlit>=1.32.2->trulens-eval) (4.17.3)\n",
      "Requirement already satisfied: toolz in /home/adeptschneiderthedev/.miniconda3/lib/python3.10/site-packages (from altair<6,>=4.0->streamlit>=1.32.2->trulens-eval) (0.12.0)\n",
      "Requirement already satisfied: marshmallow<4.0.0,>=3.18.0 in /home/adeptschneiderthedev/.miniconda3/lib/python3.10/site-packages (from dataclasses-json<0.7,>=0.5.7->langchain>=0.1.14->trulens-eval) (3.20.1)\n",
      "Requirement already satisfied: gitdb<5,>=4.0.1 in /home/adeptschneiderthedev/.local/lib/python3.10/site-packages (from gitpython!=3.1.19,<4,>=3.0.7->streamlit>=1.32.2->trulens-eval) (4.0.11)\n",
      "Requirement already satisfied: more-itertools in /home/adeptschneiderthedev/.miniconda3/lib/python3.10/site-packages (from htbuilder>=0.6.2->streamlit-extras>=0.4.0->trulens-eval) (10.2.0)\n",
      "Requirement already satisfied: jsonpointer>=1.9 in /home/adeptschneiderthedev/.local/lib/python3.10/site-packages (from jsonpatch<2.0,>=1.33->langchain-core>=0.1.6->trulens-eval) (2.4)\n",
      "Requirement already satisfied: orjson<4.0.0,>=3.9.14 in /home/adeptschneiderthedev/.local/lib/python3.10/site-packages (from langsmith<0.2.0,>=0.1.17->langchain>=0.1.14->trulens-eval) (3.10.0)\n",
      "Requirement already satisfied: mdurl~=0.1 in /home/adeptschneiderthedev/.local/lib/python3.10/site-packages (from markdown-it-py>=2.2.0->rich>=13.6.0->trulens-eval) (0.1.2)\n",
      "Requirement already satisfied: markdown in /home/adeptschneiderthedev/.miniconda3/lib/python3.10/site-packages (from markdownlit>=0.0.5->streamlit-extras>=0.4.0->trulens-eval) (3.6)\n",
      "Requirement already satisfied: lxml in /home/adeptschneiderthedev/.local/lib/python3.10/site-packages (from markdownlit>=0.0.5->streamlit-extras>=0.4.0->trulens-eval) (5.2.1)\n",
      "Requirement already satisfied: favicon in /home/adeptschneiderthedev/.miniconda3/lib/python3.10/site-packages (from markdownlit>=0.0.5->streamlit-extras>=0.4.0->trulens-eval) (0.7.0)\n",
      "Requirement already satisfied: pymdown-extensions in /home/adeptschneiderthedev/.miniconda3/lib/python3.10/site-packages (from markdownlit>=0.0.5->streamlit-extras>=0.4.0->trulens-eval) (10.8.1)\n",
      "Requirement already satisfied: python-dateutil>=2.8.2 in /home/adeptschneiderthedev/.miniconda3/lib/python3.10/site-packages (from pandas>=1.2->streamlit-aggrid==0.3.4->trulens-eval) (2.8.2)\n",
      "Requirement already satisfied: pytz>=2020.1 in /home/adeptschneiderthedev/.miniconda3/lib/python3.10/site-packages (from pandas>=1.2->streamlit-aggrid==0.3.4->trulens-eval) (2022.7)\n",
      "Requirement already satisfied: tzdata>=2022.7 in /home/adeptschneiderthedev/.miniconda3/lib/python3.10/site-packages (from pandas>=1.2->streamlit-aggrid==0.3.4->trulens-eval) (2023.3)\n",
      "Requirement already satisfied: faker in /home/adeptschneiderthedev/.miniconda3/lib/python3.10/site-packages (from streamlit-faker>=0.0.2->streamlit-extras>=0.4.0->trulens-eval) (25.0.1)\n",
      "Requirement already satisfied: matplotlib in /home/adeptschneiderthedev/.local/lib/python3.10/site-packages (from streamlit-faker>=0.0.2->streamlit-extras>=0.4.0->trulens-eval) (3.8.4)\n",
      "Requirement already satisfied: MarkupSafe>=0.9.2 in /home/adeptschneiderthedev/.local/lib/python3.10/site-packages (from Mako->alembic>=1.11.2->trulens-eval) (2.1.1)\n",
      "Requirement already satisfied: smmap<6,>=3.0.1 in /home/adeptschneiderthedev/.local/lib/python3.10/site-packages (from gitdb<5,>=4.0.1->gitpython!=3.1.19,<4,>=3.0.7->streamlit>=1.32.2->trulens-eval) (5.0.1)\n",
      "Requirement already satisfied: pyrsistent!=0.17.0,!=0.17.1,!=0.17.2,>=0.14.0 in /home/adeptschneiderthedev/.local/lib/python3.10/site-packages (from jsonschema>=3.0->altair<6,>=4.0->streamlit>=1.32.2->trulens-eval) (0.19.3)\n",
      "Requirement already satisfied: six>=1.5 in /home/adeptschneiderthedev/.miniconda3/lib/python3.10/site-packages (from python-dateutil>=2.8.2->pandas>=1.2->streamlit-aggrid==0.3.4->trulens-eval) (1.16.0)\n",
      "Requirement already satisfied: beautifulsoup4>=4.7.0 in /home/adeptschneiderthedev/.miniconda3/lib/python3.10/site-packages (from favicon->markdownlit>=0.0.5->streamlit-extras>=0.4.0->trulens-eval) (4.12.3)\n",
      "Requirement already satisfied: contourpy>=1.0.1 in /home/adeptschneiderthedev/.local/lib/python3.10/site-packages (from matplotlib->streamlit-faker>=0.0.2->streamlit-extras>=0.4.0->trulens-eval) (1.2.1)\n",
      "Requirement already satisfied: cycler>=0.10 in /home/adeptschneiderthedev/.local/lib/python3.10/site-packages (from matplotlib->streamlit-faker>=0.0.2->streamlit-extras>=0.4.0->trulens-eval) (0.12.1)\n",
      "Requirement already satisfied: fonttools>=4.22.0 in /home/adeptschneiderthedev/.local/lib/python3.10/site-packages (from matplotlib->streamlit-faker>=0.0.2->streamlit-extras>=0.4.0->trulens-eval) (4.51.0)\n",
      "Requirement already satisfied: kiwisolver>=1.3.1 in /home/adeptschneiderthedev/.local/lib/python3.10/site-packages (from matplotlib->streamlit-faker>=0.0.2->streamlit-extras>=0.4.0->trulens-eval) (1.4.5)\n",
      "Requirement already satisfied: pyparsing>=2.3.1 in /home/adeptschneiderthedev/.local/lib/python3.10/site-packages (from matplotlib->streamlit-faker>=0.0.2->streamlit-extras>=0.4.0->trulens-eval) (3.0.9)\n",
      "Requirement already satisfied: soupsieve>1.2 in /home/adeptschneiderthedev/.miniconda3/lib/python3.10/site-packages (from beautifulsoup4>=4.7.0->favicon->markdownlit>=0.0.5->streamlit-extras>=0.4.0->trulens-eval) (2.4.1)\n",
      "Using cached langchain_community-0.0.38-py3-none-any.whl (2.0 MB)\n",
      "Installing collected packages: langchain-community\n",
      "  Attempting uninstall: langchain-community\n",
      "    Found existing installation: langchain-community 0.0.37\n",
      "    Uninstalling langchain-community-0.0.37:\n",
      "      Successfully uninstalled langchain-community-0.0.37\n",
      "Successfully installed langchain-community-0.0.38\n"
     ]
    }
   ],
   "source": [
    "!pip install trulens-eval"
   ]
  },
  {
   "cell_type": "code",
   "execution_count": 2,
   "metadata": {},
   "outputs": [
    {
     "name": "stdout",
     "output_type": "stream",
     "text": [
      "Requirement already satisfied: python-dotenv in /home/adeptschneiderthedev/.miniconda3/lib/python3.10/site-packages (1.0.1)\n"
     ]
    }
   ],
   "source": [
    "!pip install python-dotenv"
   ]
  },
  {
   "cell_type": "code",
   "execution_count": null,
   "metadata": {},
   "outputs": [],
   "source": [
    "!pip install openai"
   ]
  },
  {
   "cell_type": "code",
   "execution_count": null,
   "metadata": {},
   "outputs": [],
   "source": [
    "!pip install numpy"
   ]
  },
  {
   "cell_type": "code",
   "execution_count": 14,
   "metadata": {},
   "outputs": [],
   "source": [
    "import os\n",
    "from dotenv import load_dotenv"
   ]
  },
  {
   "cell_type": "code",
   "execution_count": 22,
   "metadata": {},
   "outputs": [],
   "source": [
    "import numpy as np"
   ]
  },
  {
   "cell_type": "markdown",
   "metadata": {},
   "source": [
    "### Load TruLens Library Modules"
   ]
  },
  {
   "cell_type": "code",
   "execution_count": 15,
   "metadata": {},
   "outputs": [],
   "source": [
    "from trulens_eval import Tru\n",
    "from trulens_eval.tru_custom_app import instrument\n",
    "from trulens_eval import Feedback, Select\n",
    "from trulens_eval.feedback import Groundedness"
   ]
  },
  {
   "cell_type": "markdown",
   "metadata": {},
   "source": [
    "### Load .env"
   ]
  },
  {
   "cell_type": "code",
   "execution_count": 16,
   "metadata": {},
   "outputs": [],
   "source": [
    "# Load from environment\n",
    "load_dotenv('.env', override=True)\n",
    "os.environ[\"OPENAI_API_KEY\"] = os.getenv('OPENAI_API_KEY')"
   ]
  },
  {
   "cell_type": "markdown",
   "metadata": {},
   "source": [
    "### Load FAISS Vector Database"
   ]
  },
  {
   "cell_type": "code",
   "execution_count": 10,
   "metadata": {},
   "outputs": [],
   "source": [
    "DB_FAISS_PATH = '../vectorstore/db_faiss'"
   ]
  },
  {
   "cell_type": "code",
   "execution_count": 54,
   "metadata": {},
   "outputs": [],
   "source": [
    "from langchain_community.vectorstores import FAISS\n",
    "from langchain.embeddings import HuggingFaceEmbeddings\n",
    "from langchain.retrievers import BM25Retriever, EnsembleRetriever\n",
    "from langchain.retrievers.document_compressors import LLMChainExtractor\n",
    "from langchain.retrievers.document_compressors import EmbeddingsFilter\n",
    "from langchain_community.chat_models import ChatOllama\n",
    "from langchain.retrievers import ContextualCompressionRetriever"
   ]
  },
  {
   "cell_type": "code",
   "execution_count": 52,
   "metadata": {},
   "outputs": [],
   "source": [
    "llm = ChatOllama(model=\"llama2\")"
   ]
  },
  {
   "cell_type": "code",
   "execution_count": 6,
   "metadata": {},
   "outputs": [],
   "source": [
    "def load_embedding_model():\n",
    "    return HuggingFaceEmbeddings(model_name=\"mixedbread-ai/mxbai-embed-large-v1\", model_kwargs={'device': 'cpu'})"
   ]
  },
  {
   "cell_type": "code",
   "execution_count": 7,
   "metadata": {},
   "outputs": [
    {
     "name": "stderr",
     "output_type": "stream",
     "text": [
      "/home/adeptschneiderthedev/.miniconda3/lib/python3.10/site-packages/huggingface_hub/file_download.py:1132: FutureWarning: `resume_download` is deprecated and will be removed in version 1.0.0. Downloads always resume when possible. If you want to force a new download, use `force_download=True`.\n",
      "  warnings.warn(\n",
      "/home/adeptschneiderthedev/.miniconda3/lib/python3.10/site-packages/huggingface_hub/file_download.py:1132: FutureWarning: `resume_download` is deprecated and will be removed in version 1.0.0. Downloads always resume when possible. If you want to force a new download, use `force_download=True`.\n",
      "  warnings.warn(\n"
     ]
    }
   ],
   "source": [
    "embedding_model = load_embedding_model()"
   ]
  },
  {
   "cell_type": "code",
   "execution_count": 37,
   "metadata": {},
   "outputs": [],
   "source": [
    "# Load the FAISS vector store\n",
    "db = FAISS.load_local(DB_FAISS_PATH, embedding_model, allow_dangerous_deserialization=True)\n",
    "faiss_retriever = db.as_retriever(search_kwargs={'k': 5})"
   ]
  },
  {
   "cell_type": "markdown",
   "metadata": {},
   "source": [
    "### Ensemble Retriever"
   ]
  },
  {
   "cell_type": "code",
   "execution_count": 33,
   "metadata": {},
   "outputs": [],
   "source": [
    "import pickle\n",
    "\n",
    "\n",
    "def load_bm25_retriever():\n",
    "    with open('../bm25_retriever.pkl', 'rb') as f:\n",
    "        bm25_retriever = pickle.load(f)\n",
    "    return bm25_retriever"
   ]
  },
  {
   "cell_type": "code",
   "execution_count": 35,
   "metadata": {},
   "outputs": [],
   "source": [
    "bm25_retriever = load_bm25_retriever()"
   ]
  },
  {
   "cell_type": "code",
   "execution_count": 36,
   "metadata": {},
   "outputs": [],
   "source": [
    "# Create an ensemble retriever with the BM25 and FAISS retrievers\n",
    "ensemble_retriever = EnsembleRetriever(retrievers=[bm25_retriever, faiss_retriever], weights=[0.5, 0.5])"
   ]
  },
  {
   "cell_type": "markdown",
   "metadata": {},
   "source": [
    "### Contextual Compression"
   ]
  },
  {
   "cell_type": "code",
   "execution_count": 53,
   "metadata": {},
   "outputs": [],
   "source": [
    "compressor = LLMChainExtractor.from_llm(llm)"
   ]
  },
  {
   "cell_type": "code",
   "execution_count": 62,
   "metadata": {},
   "outputs": [],
   "source": [
    "compression_retriever = ContextualCompressionRetriever(base_compressor=compressor, base_retriever=faiss_retriever)"
   ]
  },
  {
   "cell_type": "markdown",
   "metadata": {},
   "source": [
    "### Evaluating the base retrieval (FAISS Retriever) of the sysem using Truelens-eval"
   ]
  },
  {
   "cell_type": "code",
   "execution_count": 12,
   "metadata": {},
   "outputs": [
    {
     "name": "stdout",
     "output_type": "stream",
     "text": [
      "🦑 Tru initialized with db url sqlite:///default.sqlite .\n",
      "🛑 Secret keys may be written to the database. See the `database_redact_keys` option of Tru` to prevent this.\n"
     ]
    }
   ],
   "source": [
    "tru = Tru()"
   ]
  },
  {
   "cell_type": "code",
   "execution_count": 17,
   "metadata": {},
   "outputs": [],
   "source": [
    "from openai import OpenAI\n",
    "oai_client = OpenAI()"
   ]
  },
  {
   "cell_type": "code",
   "execution_count": 79,
   "metadata": {},
   "outputs": [],
   "source": [
    "class BaseRetrieval:\n",
    "    @instrument\n",
    "    def retrieve(self, query: str) -> list:\n",
    "        \"\"\"\n",
    "        Retrieve relevant text from vector store.\n",
    "        \"\"\"\n",
    "        results = db.similarity_search(query, k=5)\n",
    "        print(results)\n",
    "        return results[0].page_content\n",
    "    \n",
    "    @instrument\n",
    "    def generate_completion(self, query: str, context_str: list) -> str:\n",
    "        \"\"\"\n",
    "        Generate answer from context.\n",
    "        \"\"\"\n",
    "        completion = oai_client.chat.completions.create(\n",
    "        model=\"gpt-4-turbo\",\n",
    "        temperature=0,\n",
    "        messages=\n",
    "        [\n",
    "            {\"role\": \"user\",\n",
    "            \"content\": \n",
    "            f\"We have provided context information below. \\n\"\n",
    "            f\"---------------------\\n\"\n",
    "            f\"{context_str}\"\n",
    "            f\"\\n---------------------\\n\"\n",
    "            f\"Given this information, please answer the question: {query}\"\n",
    "            }\n",
    "        ]\n",
    "        ).choices[0].message.content\n",
    "        return completion\n",
    "\n",
    "    @instrument\n",
    "    def query(self, query: str) -> str:\n",
    "        context_str = self.retrieve(query)\n",
    "        completion = self.generate_completion(query, context_str)\n",
    "        return completion"
   ]
  },
  {
   "cell_type": "code",
   "execution_count": 80,
   "metadata": {},
   "outputs": [],
   "source": [
    "rag = BaseRetrieval()"
   ]
  },
  {
   "cell_type": "code",
   "execution_count": 20,
   "metadata": {},
   "outputs": [
    {
     "name": "stderr",
     "output_type": "stream",
     "text": [
      "[nltk_data] Downloading package punkt to\n",
      "[nltk_data]     /home/adeptschneiderthedev/nltk_data...\n",
      "[nltk_data]   Package punkt is already up-to-date!\n"
     ]
    }
   ],
   "source": [
    "from trulens_eval.feedback.provider.openai import OpenAI\n",
    "\n",
    "provider = OpenAI()\n",
    "grounded = Groundedness(groundedness_provider=provider)"
   ]
  },
  {
   "cell_type": "code",
   "execution_count": 23,
   "metadata": {},
   "outputs": [
    {
     "name": "stdout",
     "output_type": "stream",
     "text": [
      "✅ In Groundedness, input source will be set to __record__.app.retrieve.rets.collect() .\n",
      "✅ In Groundedness, input statement will be set to __record__.main_output or `Select.RecordOutput` .\n",
      "✅ In Answer Relevance, input prompt will be set to __record__.app.retrieve.args.query .\n",
      "✅ In Answer Relevance, input response will be set to __record__.main_output or `Select.RecordOutput` .\n",
      "✅ In Context Relevance, input question will be set to __record__.app.retrieve.args.query .\n",
      "✅ In Context Relevance, input context will be set to __record__.app.retrieve.rets.collect() .\n"
     ]
    }
   ],
   "source": [
    "# Define a groundedness feedback function\n",
    "f_groundedness = (\n",
    "    Feedback(grounded.groundedness_measure_with_cot_reasons, name = \"Groundedness\")\n",
    "    .on(Select.RecordCalls.retrieve.rets.collect())\n",
    "    .on_output()\n",
    "    .aggregate(grounded.grounded_statements_aggregator)\n",
    ")\n",
    "\n",
    "# Question/answer relevance between overall question and answer.\n",
    "f_answer_relevance = (\n",
    "    Feedback(provider.relevance_with_cot_reasons, name = \"Answer Relevance\")\n",
    "    .on(Select.RecordCalls.retrieve.args.query)\n",
    "    .on_output()\n",
    ")\n",
    "\n",
    "# Question/statement relevance between question and each context chunk.\n",
    "f_context_relevance = (\n",
    "    Feedback(provider.context_relevance_with_cot_reasons, name = \"Context Relevance\")\n",
    "    .on(Select.RecordCalls.retrieve.args.query)\n",
    "    .on(Select.RecordCalls.retrieve.rets.collect())\n",
    "    .aggregate(np.mean)\n",
    ")"
   ]
  },
  {
   "cell_type": "markdown",
   "metadata": {},
   "source": [
    "### Construct the App"
   ]
  },
  {
   "cell_type": "code",
   "execution_count": 81,
   "metadata": {},
   "outputs": [],
   "source": [
    "from trulens_eval import TruCustomApp\n",
    "tru_rag = TruCustomApp(rag,\n",
    "    app_id = 'Retrieval Pipeline Testing v1',\n",
    "    feedbacks = [f_groundedness, f_answer_relevance, f_context_relevance])"
   ]
  },
  {
   "cell_type": "code",
   "execution_count": 82,
   "metadata": {},
   "outputs": [],
   "source": [
    "queries = [\n",
    "    \"Can the Conference of the Parties of the WHO FCTC assist countries in securing financial resources for implementation?\",\n",
    "    \"What should be the minimum size of health warnings and messages on tobacco products, and where should they be placed?\",\n",
    "    \"I opened a company to produce sensors in Kuala Lumpur. Based on the law in the file, how should I register for sales tax, and what are my obligations?\",\n",
    "    \"I opened a company to produce sensors in Kuala Lumpur. During product I paid sales tax on my inputs. Based on the law in the file, what are conditions to be eligible for a refund of the sales tax?\",\n",
    "    \"What specific indicators and targets are outlined in Canada's Cybersecurity Strategy?\",\n",
    "    \"What measures is the government of Canada taking in response to data security challenges posed by the emergence of novel technologies?\",\n",
    "    \"What are the API requirements that apply to the Consent building block?\",\n",
    "    \"What additional building blocks are essential to support the functionality of the consent building block?\",\n",
    "    \"What are the key findings of the CyberPeace Institute's analysis of cyber threats affecting NGOs in International Geneva?\",\n",
    "    \"What are the key lessons learnt from the case studies examined in the report?\"\n",
    "]"
   ]
  },
  {
   "cell_type": "code",
   "execution_count": 83,
   "metadata": {},
   "outputs": [],
   "source": [
    "def tru_rag_retrieval_pipeline(query):\n",
    "    with tru_rag as recording:\n",
    "        rag.query(query)\n",
    "    tru.get_leaderboard(app_ids=[\"Retrieval Pipeline Testing v1\"])"
   ]
  },
  {
   "cell_type": "code",
   "execution_count": 87,
   "metadata": {},
   "outputs": [],
   "source": [
    "for query in queries:\n",
    "    tru_rag_retrieval_pipeline(query)"
   ]
  },
  {
   "cell_type": "code",
   "execution_count": 42,
   "metadata": {},
   "outputs": [
    {
     "name": "stdout",
     "output_type": "stream",
     "text": [
      "Starting dashboard ...\n",
      "Config file already exists. Skipping writing process.\n",
      "Credentials file already exists. Skipping writing process.\n",
      "Dashboard already running at path:   Network URL: http://192.168.0.105:8501\n",
      "\n"
     ]
    },
    {
     "data": {
      "text/plain": [
       "<Popen: returncode: None args: ['streamlit', 'run', '--server.headless=True'...>"
      ]
     },
     "execution_count": 42,
     "metadata": {},
     "output_type": "execute_result"
    }
   ],
   "source": [
    "tru.run_dashboard()"
   ]
  },
  {
   "cell_type": "markdown",
   "metadata": {},
   "source": [
    "### Evaluating the ensemble retrieval system (BM25Retriever + FAISS Retriever) sysem using Truelens-eval"
   ]
  },
  {
   "cell_type": "code",
   "execution_count": 40,
   "metadata": {},
   "outputs": [],
   "source": [
    "class EnsembleRetrieval:\n",
    "    @instrument\n",
    "    def retrieve(self, query: str) -> list:\n",
    "        \"\"\"\n",
    "        Retrieve relevant text from vector store.\n",
    "        \"\"\"\n",
    "        results = ensemble_retriever.get_relevant_documents(query)\n",
    "        return results[0].page_content\n",
    "    \n",
    "    @instrument\n",
    "    def generate_completion(self, query: str, context_str: list) -> str:\n",
    "        \"\"\"\n",
    "        Generate answer from context.\n",
    "        \"\"\"\n",
    "        completion = oai_client.chat.completions.create(\n",
    "        model=\"gpt-4-turbo\",\n",
    "        temperature=0,\n",
    "        messages=\n",
    "        [\n",
    "            {\"role\": \"user\",\n",
    "            \"content\": \n",
    "            f\"We have provided context information below. \\n\"\n",
    "            f\"---------------------\\n\"\n",
    "            f\"{context_str}\"\n",
    "            f\"\\n---------------------\\n\"\n",
    "            f\"Given this information, please answer the question: {query}\"\n",
    "            }\n",
    "        ]\n",
    "        ).choices[0].message.content\n",
    "        return completion\n",
    "\n",
    "    @instrument\n",
    "    def query(self, query: str) -> str:\n",
    "        context_str = self.retrieve(query)\n",
    "        completion = self.generate_completion(query, context_str)\n",
    "        return completion"
   ]
  },
  {
   "cell_type": "code",
   "execution_count": 41,
   "metadata": {},
   "outputs": [],
   "source": [
    "ensemble_retrieval_rag = EnsembleRetrieval()"
   ]
  },
  {
   "cell_type": "code",
   "execution_count": 44,
   "metadata": {},
   "outputs": [],
   "source": [
    "from trulens_eval import TruCustomApp\n",
    "ensemble_retrieval_tru_rag = TruCustomApp(ensemble_retrieval_rag,\n",
    "    app_id = 'Retrieval Pipeline Testing v2 (Ensemble Retrieval)',\n",
    "    feedbacks = [f_groundedness, f_answer_relevance, f_context_relevance])"
   ]
  },
  {
   "cell_type": "code",
   "execution_count": 47,
   "metadata": {},
   "outputs": [],
   "source": [
    "def tru_rag_ensemble_retrieval_pipeline(query):\n",
    "    with ensemble_retrieval_tru_rag as recording:\n",
    "        ensemble_retrieval_rag.query(query)\n",
    "    tru.get_leaderboard(app_ids=[\"Retrieval Pipeline Testing v1\"])"
   ]
  },
  {
   "cell_type": "code",
   "execution_count": 48,
   "metadata": {},
   "outputs": [
    {
     "name": "stderr",
     "output_type": "stream",
     "text": [
      "/home/adeptschneiderthedev/.miniconda3/lib/python3.10/site-packages/langchain_core/_api/deprecation.py:119: LangChainDeprecationWarning: The method `BaseRetriever.get_relevant_documents` was deprecated in langchain-core 0.1.46 and will be removed in 0.3.0. Use invoke instead.\n",
      "  warn_deprecated(\n"
     ]
    },
    {
     "data": {
      "application/vnd.jupyter.widget-view+json": {
       "model_id": "7f1d1d9302be43f8baecc5fbfceb89e2",
       "version_major": 2,
       "version_minor": 0
      },
      "text/plain": [
       "Groundedness per statement in source:   0%|          | 0/5 [00:00<?, ?it/s]"
      ]
     },
     "metadata": {},
     "output_type": "display_data"
    },
    {
     "data": {
      "application/vnd.jupyter.widget-view+json": {
       "model_id": "3ae90cd8b0584a4fa0bc58063bd467b0",
       "version_major": 2,
       "version_minor": 0
      },
      "text/plain": [
       "Groundedness per statement in source:   0%|          | 0/2 [00:00<?, ?it/s]"
      ]
     },
     "metadata": {},
     "output_type": "display_data"
    },
    {
     "data": {
      "application/vnd.jupyter.widget-view+json": {
       "model_id": "937624fcd7c84fbd814ef5e1ac6b269c",
       "version_major": 2,
       "version_minor": 0
      },
      "text/plain": [
       "Groundedness per statement in source:   0%|          | 0/21 [00:00<?, ?it/s]"
      ]
     },
     "metadata": {},
     "output_type": "display_data"
    },
    {
     "data": {
      "application/vnd.jupyter.widget-view+json": {
       "model_id": "176ad87a224442d5b9e70188b8cd141b",
       "version_major": 2,
       "version_minor": 0
      },
      "text/plain": [
       "Groundedness per statement in source:   0%|          | 0/18 [00:00<?, ?it/s]"
      ]
     },
     "metadata": {},
     "output_type": "display_data"
    },
    {
     "data": {
      "application/vnd.jupyter.widget-view+json": {
       "model_id": "d2b7da2c6ea545e1890608f13b745046",
       "version_major": 2,
       "version_minor": 0
      },
      "text/plain": [
       "Groundedness per statement in source:   0%|          | 0/15 [00:00<?, ?it/s]"
      ]
     },
     "metadata": {},
     "output_type": "display_data"
    },
    {
     "data": {
      "application/vnd.jupyter.widget-view+json": {
       "model_id": "d82754290b6c48469b20ed18631e060c",
       "version_major": 2,
       "version_minor": 0
      },
      "text/plain": [
       "Groundedness per statement in source:   0%|          | 0/20 [00:00<?, ?it/s]"
      ]
     },
     "metadata": {},
     "output_type": "display_data"
    },
    {
     "data": {
      "application/vnd.jupyter.widget-view+json": {
       "model_id": "119a4c971a914b3ba917264cb91c4fe8",
       "version_major": 2,
       "version_minor": 0
      },
      "text/plain": [
       "Groundedness per statement in source:   0%|          | 0/15 [00:00<?, ?it/s]"
      ]
     },
     "metadata": {},
     "output_type": "display_data"
    },
    {
     "data": {
      "application/vnd.jupyter.widget-view+json": {
       "model_id": "516a4183d3f447f9be94474afefbd87a",
       "version_major": 2,
       "version_minor": 0
      },
      "text/plain": [
       "Groundedness per statement in source:   0%|          | 0/22 [00:00<?, ?it/s]"
      ]
     },
     "metadata": {},
     "output_type": "display_data"
    },
    {
     "data": {
      "application/vnd.jupyter.widget-view+json": {
       "model_id": "f970785acd1940deac954d3247498668",
       "version_major": 2,
       "version_minor": 0
      },
      "text/plain": [
       "Groundedness per statement in source:   0%|          | 0/6 [00:00<?, ?it/s]"
      ]
     },
     "metadata": {},
     "output_type": "display_data"
    },
    {
     "data": {
      "application/vnd.jupyter.widget-view+json": {
       "model_id": "1af25de0c66944968f5421ccaf127b78",
       "version_major": 2,
       "version_minor": 0
      },
      "text/plain": [
       "Groundedness per statement in source:   0%|          | 0/7 [00:00<?, ?it/s]"
      ]
     },
     "metadata": {},
     "output_type": "display_data"
    }
   ],
   "source": [
    "for query in queries:\n",
    "    tru_rag_ensemble_retrieval_pipeline(query)"
   ]
  },
  {
   "cell_type": "code",
   "execution_count": 50,
   "metadata": {},
   "outputs": [
    {
     "name": "stdout",
     "output_type": "stream",
     "text": [
      "Starting dashboard ...\n",
      "Config file already exists. Skipping writing process.\n",
      "Credentials file already exists. Skipping writing process.\n",
      "Dashboard already running at path:   Network URL: http://192.168.0.105:8501\n",
      "\n"
     ]
    },
    {
     "data": {
      "text/plain": [
       "<Popen: returncode: None args: ['streamlit', 'run', '--server.headless=True'...>"
      ]
     },
     "execution_count": 50,
     "metadata": {},
     "output_type": "execute_result"
    }
   ],
   "source": [
    "tru.run_dashboard()"
   ]
  },
  {
   "cell_type": "markdown",
   "metadata": {},
   "source": [
    "### Evaluating the Contextual Retrieval sysem using Truelens-eval"
   ]
  },
  {
   "cell_type": "code",
   "execution_count": 63,
   "metadata": {},
   "outputs": [],
   "source": [
    "class ContextualCompressionRetrieval:\n",
    "    @instrument\n",
    "    def retrieve(self, query: str) -> list:\n",
    "        \"\"\"\n",
    "        Retrieve relevant text from vector store.\n",
    "        \"\"\"\n",
    "        results = compression_retriever.get_relevant_documents(query)\n",
    "        return results[0].page_content\n",
    "    \n",
    "    @instrument\n",
    "    def generate_completion(self, query: str, context_str: list) -> str:\n",
    "        \"\"\"\n",
    "        Generate answer from context.\n",
    "        \"\"\"\n",
    "        completion = oai_client.chat.completions.create(\n",
    "        model=\"gpt-4-turbo\",\n",
    "        temperature=0,\n",
    "        messages=\n",
    "        [\n",
    "            {\"role\": \"user\",\n",
    "            \"content\": \n",
    "            f\"We have provided context information below. \\n\"\n",
    "            f\"---------------------\\n\"\n",
    "            f\"{context_str}\"\n",
    "            f\"\\n---------------------\\n\"\n",
    "            f\"Given this information, please answer the question: {query}\"\n",
    "            }\n",
    "        ]\n",
    "        ).choices[0].message.content\n",
    "        return completion\n",
    "\n",
    "    @instrument\n",
    "    def query(self, query: str) -> str:\n",
    "        context_str = self.retrieve(query)\n",
    "        completion = self.generate_completion(query, context_str)\n",
    "        return completion"
   ]
  },
  {
   "cell_type": "code",
   "execution_count": 65,
   "metadata": {},
   "outputs": [],
   "source": [
    "contextual_compression_retrieval_rag = ContextualCompressionRetrieval()"
   ]
  },
  {
   "cell_type": "code",
   "execution_count": 66,
   "metadata": {},
   "outputs": [],
   "source": [
    "from trulens_eval import TruCustomApp\n",
    "contextual_compression_retrieval_tru_rag = TruCustomApp(contextual_compression_retrieval_rag,\n",
    "    app_id = 'Retrieval Pipeline Testing v3 (Contextual Retrieval)',\n",
    "    feedbacks = [f_groundedness, f_answer_relevance, f_context_relevance])"
   ]
  },
  {
   "cell_type": "code",
   "execution_count": 70,
   "metadata": {},
   "outputs": [],
   "source": [
    "def tru_rag_contextual_compression_retrieval_pipeline(query):\n",
    "    with contextual_compression_retrieval_tru_rag as recording:\n",
    "        contextual_compression_retrieval_rag.query(query)\n",
    "    tru.get_leaderboard(app_ids=[\"Retrieval Pipeline Testing v3 (Contextual Retrieval)\"])"
   ]
  },
  {
   "cell_type": "code",
   "execution_count": 72,
   "metadata": {},
   "outputs": [],
   "source": [
    "for query in queries:\n",
    "    tru_rag_contextual_compression_retrieval_pipeline(query)"
   ]
  },
  {
   "cell_type": "code",
   "execution_count": null,
   "metadata": {},
   "outputs": [],
   "source": [
    "tru.run_dashboard()"
   ]
  }
 ],
 "metadata": {
  "kernelspec": {
   "display_name": "base",
   "language": "python",
   "name": "python3"
  },
  "language_info": {
   "codemirror_mode": {
    "name": "ipython",
    "version": 3
   },
   "file_extension": ".py",
   "mimetype": "text/x-python",
   "name": "python",
   "nbconvert_exporter": "python",
   "pygments_lexer": "ipython3",
   "version": "3.10.12"
  }
 },
 "nbformat": 4,
 "nbformat_minor": 2
}
